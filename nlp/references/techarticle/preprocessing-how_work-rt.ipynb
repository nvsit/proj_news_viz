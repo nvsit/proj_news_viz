{
 "cells": [
  {
   "cell_type": "code",
   "execution_count": 1,
   "metadata": {},
   "outputs": [],
   "source": [
    "# import os\n",
    "import sys\n",
    "import gc\n",
    "\n",
    "# прописываем нужный нам путь к проекту\n",
    "from pathlib import Path\n",
    "PATH = Path('../..') # proj_news_viz/nlp\n",
    "sys.path.append(str(PATH))\n",
    "\n",
    "import pandas as pd\n",
    "import numpy as np"
   ]
  },
  {
   "cell_type": "code",
   "execution_count": 2,
   "metadata": {},
   "outputs": [],
   "source": [
    "import warnings\n",
    "warnings.filterwarnings('ignore')\n",
    "\n",
    "%load_ext autoreload\n",
    "%autoreload 2\n",
    "\n",
    "# import matplotlib.pyplot as plt\n",
    "# plt.style.use('dark_background')\n",
    "%matplotlib inline"
   ]
  },
  {
   "cell_type": "code",
   "execution_count": 8,
   "metadata": {},
   "outputs": [
    {
     "name": "stdout",
     "output_type": "stream",
     "text": [
      "(106644, 16)\n"
     ]
    },
    {
     "data": {
      "text/html": [
       "<div>\n",
       "<style scoped>\n",
       "    .dataframe tbody tr th:only-of-type {\n",
       "        vertical-align: middle;\n",
       "    }\n",
       "\n",
       "    .dataframe tbody tr th {\n",
       "        vertical-align: top;\n",
       "    }\n",
       "\n",
       "    .dataframe thead th {\n",
       "        text-align: right;\n",
       "    }\n",
       "</style>\n",
       "<table border=\"1\" class=\"dataframe\">\n",
       "  <thead>\n",
       "    <tr style=\"text-align: right;\">\n",
       "      <th></th>\n",
       "      <th>date</th>\n",
       "      <th>url</th>\n",
       "      <th>edition</th>\n",
       "      <th>topics</th>\n",
       "      <th>authors</th>\n",
       "      <th>title</th>\n",
       "      <th>text</th>\n",
       "      <th>reposts_fb</th>\n",
       "      <th>reposts_vk</th>\n",
       "      <th>reposts_ok</th>\n",
       "      <th>reposts_twi</th>\n",
       "      <th>reposts_lj</th>\n",
       "      <th>reposts_tg</th>\n",
       "      <th>likes</th>\n",
       "      <th>views</th>\n",
       "      <th>comm_count</th>\n",
       "    </tr>\n",
       "  </thead>\n",
       "  <tbody>\n",
       "    <tr>\n",
       "      <th>2018-11-03 21:09:00</th>\n",
       "      <td>https://russian.rt.com/world/news/570300-miss-...</td>\n",
       "      <td>-</td>\n",
       "      <td>Мир</td>\n",
       "      <td>NaN</td>\n",
       "      <td>Обладательницей титула «Мисс Земля» стала пред...</td>\n",
       "      <td>Об этом сообщаетnRapplern.nТитул «Мисс Огонь» ...</td>\n",
       "      <td>-</td>\n",
       "      <td>-</td>\n",
       "      <td>-</td>\n",
       "      <td>-</td>\n",
       "      <td>-</td>\n",
       "      <td>-</td>\n",
       "      <td>-</td>\n",
       "      <td>-</td>\n",
       "      <td>-</td>\n",
       "      <td>NaN</td>\n",
       "    </tr>\n",
       "    <tr>\n",
       "      <th>2018-06-18 17:31:00</th>\n",
       "      <td>https://russian.rt.com/world/news/524918-lavro...</td>\n",
       "      <td>-</td>\n",
       "      <td>Мир</td>\n",
       "      <td>NaN</td>\n",
       "      <td>Лавров и Помпео обсудили урегулирование ситуац...</td>\n",
       "      <td>«В центре внимания была проблематика сирийског...</td>\n",
       "      <td>-</td>\n",
       "      <td>-</td>\n",
       "      <td>-</td>\n",
       "      <td>-</td>\n",
       "      <td>-</td>\n",
       "      <td>-</td>\n",
       "      <td>-</td>\n",
       "      <td>-</td>\n",
       "      <td>-</td>\n",
       "      <td>NaN</td>\n",
       "    </tr>\n",
       "  </tbody>\n",
       "</table>\n",
       "</div>"
      ],
      "text/plain": [
       "                                                                  date url  \\\n",
       "2018-11-03 21:09:00  https://russian.rt.com/world/news/570300-miss-...   -   \n",
       "2018-06-18 17:31:00  https://russian.rt.com/world/news/524918-lavro...   -   \n",
       "\n",
       "                    edition  topics  \\\n",
       "2018-11-03 21:09:00     Мир     NaN   \n",
       "2018-06-18 17:31:00     Мир     NaN   \n",
       "\n",
       "                                                               authors  \\\n",
       "2018-11-03 21:09:00  Обладательницей титула «Мисс Земля» стала пред...   \n",
       "2018-06-18 17:31:00  Лавров и Помпео обсудили урегулирование ситуац...   \n",
       "\n",
       "                                                                 title text  \\\n",
       "2018-11-03 21:09:00  Об этом сообщаетnRapplern.nТитул «Мисс Огонь» ...    -   \n",
       "2018-06-18 17:31:00  «В центре внимания была проблематика сирийског...    -   \n",
       "\n",
       "                    reposts_fb reposts_vk reposts_ok reposts_twi reposts_lj  \\\n",
       "2018-11-03 21:09:00          -          -          -           -          -   \n",
       "2018-06-18 17:31:00          -          -          -           -          -   \n",
       "\n",
       "                    reposts_tg likes views  comm_count  \n",
       "2018-11-03 21:09:00          -     -     -         NaN  \n",
       "2018-06-18 17:31:00          -     -     -         NaN  "
      ]
     },
     "execution_count": 8,
     "metadata": {},
     "output_type": "execute_result"
    }
   ],
   "source": [
    "df = pd.read_csv(PATH / 'data/external/rt.csv', delimiter=',', quotechar='\"', escapechar='\\\\')\n",
    "print(df.shape)\n",
    "df.sample(2)"
   ]
  },
  {
   "cell_type": "code",
   "execution_count": 18,
   "metadata": {},
   "outputs": [
    {
     "name": "stdout",
     "output_type": "stream",
     "text": [
      "(106632, 2)\n"
     ]
    },
    {
     "data": {
      "text/plain": [
       "edition    0\n",
       "title      0\n",
       "dtype: int64"
      ]
     },
     "execution_count": 18,
     "metadata": {},
     "output_type": "execute_result"
    }
   ],
   "source": [
    "df = df[['edition','title']]\n",
    "df = df.dropna()\n",
    "print(df.shape)\n",
    "df.isnull().sum()"
   ]
  },
  {
   "cell_type": "code",
   "execution_count": 24,
   "metadata": {},
   "outputs": [
    {
     "data": {
      "text/html": [
       "<div>\n",
       "<style scoped>\n",
       "    .dataframe tbody tr th:only-of-type {\n",
       "        vertical-align: middle;\n",
       "    }\n",
       "\n",
       "    .dataframe tbody tr th {\n",
       "        vertical-align: top;\n",
       "    }\n",
       "\n",
       "    .dataframe thead th {\n",
       "        text-align: right;\n",
       "    }\n",
       "</style>\n",
       "<table border=\"1\" class=\"dataframe\">\n",
       "  <thead>\n",
       "    <tr style=\"text-align: right;\">\n",
       "      <th></th>\n",
       "      <th>topic</th>\n",
       "      <th>text</th>\n",
       "    </tr>\n",
       "  </thead>\n",
       "  <tbody>\n",
       "    <tr>\n",
       "      <th>73325</th>\n",
       "      <td>Спорт</td>\n",
       "      <td>«Отношение владельцев клубов к Олимпиаде такое...</td>\n",
       "    </tr>\n",
       "    <tr>\n",
       "      <th>106060</th>\n",
       "      <td>Спорт</td>\n",
       "      <td>«Проект теннисного комплекса утверждён. Думаю,...</td>\n",
       "    </tr>\n",
       "  </tbody>\n",
       "</table>\n",
       "</div>"
      ],
      "text/plain": [
       "        topic                                               text\n",
       "73325   Спорт  «Отношение владельцев клубов к Олимпиаде такое...\n",
       "106060  Спорт  «Проект теннисного комплекса утверждён. Думаю,..."
      ]
     },
     "execution_count": 24,
     "metadata": {},
     "output_type": "execute_result"
    }
   ],
   "source": [
    "df = df.rename({'edition':'topic','title':'text'},\n",
    "               axis=1)\n",
    "df = df.reset_index(drop=True)\n",
    "df.sample(2)"
   ]
  },
  {
   "cell_type": "code",
   "execution_count": null,
   "metadata": {},
   "outputs": [],
   "source": []
  },
  {
   "cell_type": "code",
   "execution_count": 25,
   "metadata": {},
   "outputs": [
    {
     "name": "stdout",
     "output_type": "stream",
     "text": [
      "уникальное к-ство разделов: 10\n"
     ]
    },
    {
     "data": {
      "text/plain": [
       "Россия               32959\n",
       "Спорт                26696\n",
       "Мир                  26474\n",
       "Бывший СССР          10078\n",
       "Без политики          4489\n",
       "Экономика             4321\n",
       "Наука                 1496\n",
       "Пресс-релизы            92\n",
       "Новости партнёров       14\n",
       "Мероприятия RT          13\n",
       "Name: topic, dtype: int64"
      ]
     },
     "execution_count": 25,
     "metadata": {},
     "output_type": "execute_result"
    }
   ],
   "source": [
    "# посмотрим на к-ство записей по разделам\n",
    "print(f'уникальное к-ство разделов: {df.topic.unique().shape[0]}')\n",
    "df.topic.value_counts()"
   ]
  },
  {
   "cell_type": "markdown",
   "metadata": {},
   "source": [
    "---\n",
    "разделим данные для начала на train & test в соотношении 80/20 соответственно  со стратификацией по топиках"
   ]
  },
  {
   "cell_type": "code",
   "execution_count": 27,
   "metadata": {},
   "outputs": [],
   "source": [
    "from sklearn.model_selection import train_test_split"
   ]
  },
  {
   "cell_type": "code",
   "execution_count": 29,
   "metadata": {},
   "outputs": [
    {
     "data": {
      "text/plain": [
       "((85305,), (21327,), (85305,), (21327,))"
      ]
     },
     "execution_count": 29,
     "metadata": {},
     "output_type": "execute_result"
    }
   ],
   "source": [
    "X_train, X_test, y_train, y_test = train_test_split(df.text,df.topic,\n",
    "                                                    test_size=0.2,\n",
    "                                                    stratify=df.topic,\n",
    "                                                    random_state=42)\n",
    "\n",
    "X_train.shape, X_test.shape, y_train.shape, y_test.shape"
   ]
  },
  {
   "cell_type": "code",
   "execution_count": 30,
   "metadata": {},
   "outputs": [
    {
     "data": {
      "text/plain": [
       "(0, 0)"
      ]
     },
     "execution_count": 30,
     "metadata": {},
     "output_type": "execute_result"
    }
   ],
   "source": [
    "# проверим на пустые значения\n",
    "X_train.isna().sum(), X_test.isna().sum()"
   ]
  },
  {
   "cell_type": "markdown",
   "metadata": {},
   "source": [
    "---\n",
    "## сделаем небольшое исследование, обучив модель с и без препроцессинга"
   ]
  },
  {
   "cell_type": "code",
   "execution_count": 31,
   "metadata": {},
   "outputs": [],
   "source": [
    "from sklearn.feature_extraction.text import CountVectorizer, TfidfVectorizer\n",
    "from sklearn.linear_model import LogisticRegression\n",
    "from sklearn.metrics import accuracy_score, classification_report, confusion_matrix"
   ]
  },
  {
   "cell_type": "code",
   "execution_count": 32,
   "metadata": {},
   "outputs": [],
   "source": [
    "# добавим самописный файл, для отображения топ частотный слов\n",
    "from news_viz.visualization.plot_frequency import plotFrequencyWords"
   ]
  },
  {
   "cell_type": "markdown",
   "metadata": {},
   "source": [
    "* ### без препроцессинга"
   ]
  },
  {
   "cell_type": "code",
   "execution_count": 33,
   "metadata": {},
   "outputs": [
    {
     "name": "stdout",
     "output_type": "stream",
     "text": [
      "CPU times: user 11.7 s, sys: 2.46 s, total: 14.1 s\n",
      "Wall time: 14.2 s\n"
     ]
    }
   ],
   "source": [
    "%%time\n",
    "\n",
    "tfidf_vect = TfidfVectorizer()\n",
    "\n",
    "# в данном примере обучим только на `X_train`\n",
    "# но ничего не мешает обучить и на `X_test`\n",
    "tfidf_vect_train = tfidf_vect.fit_transform(X_train)\n",
    "tfidf_vect_test = tfidf_vect.transform(X_test)"
   ]
  },
  {
   "cell_type": "code",
   "execution_count": 34,
   "metadata": {
    "scrolled": true
   },
   "outputs": [
    {
     "name": "stdout",
     "output_type": "stream",
     "text": [
      "размер корпуса: 432423\n",
      "\n",
      "пример [:5]: [('на', 3251.527395499927), ('что', 2855.6929891848145), ('не', 2116.4085550727564), ('по', 2001.0509803322166), ('россии', 1246.0749348562003)]\n"
     ]
    }
   ],
   "source": [
    "# распределение токенов\n",
    "vocab = {a: b for a, b in zip(tfidf_vect.get_feature_names(), np.ravel(tfidf_vect_train.sum(axis=0)))}\n",
    "vocab = sorted(vocab.items(), reverse=True, key = lambda kv:(kv[1], kv[0]))\n",
    "\n",
    "print(f'размер корпуса: {len(vocab)}')\n",
    "print(f'\\nпример [:5]: {vocab[:5]}')"
   ]
  },
  {
   "cell_type": "code",
   "execution_count": 35,
   "metadata": {},
   "outputs": [
    {
     "data": {
      "image/png": "[encoded data removed]",
      "text/plain": [
       "<Figure size 1440x720 with 1 Axes>"
      ]
     },
     "metadata": {},
     "output_type": "display_data"
    }
   ],
   "source": [
    "plotFrequencyWords(vocab = vocab,\n",
    "                   top_words = 30,\n",
    "                   plt_background = 'dark')"
   ]
  },
  {
   "cell_type": "code",
   "execution_count": 36,
   "metadata": {},
   "outputs": [
    {
     "name": "stdout",
     "output_type": "stream",
     "text": [
      "classification_report:\n",
      "                   precision    recall  f1-score   support\n",
      "\n",
      "     Без политики    0.60255   0.84076   0.70200       898\n",
      "      Бывший СССР    0.78639   0.87103   0.82655      2016\n",
      "   Мероприятия RT    0.00000   0.00000   0.00000         3\n",
      "              Мир    0.85901   0.83078   0.84466      5295\n",
      "            Наука    0.61965   0.82274   0.70690       299\n",
      "Новости партнёров    0.00000   0.00000   0.00000         3\n",
      "     Пресс-релизы    0.53846   0.77778   0.63636        18\n",
      "           Россия    0.86740   0.76805   0.81471      6592\n",
      "            Спорт    0.97793   0.96273   0.97027      5339\n",
      "        Экономика    0.55976   0.76968   0.64815       864\n",
      "\n",
      "         accuracy                        0.84578     21327\n",
      "        macro avg    0.58112   0.66435   0.61496     21327\n",
      "     weighted avg    0.85772   0.84578   0.84882     21327\n",
      "\n",
      "confusion_matrix:\n",
      "[[ 755   11    0   44   21    0    0   60    5    2]\n",
      " [  11 1756    0   82    3    1    0   98    2   63]\n",
      " [   0    0    0    1    0    0    1    1    0    0]\n",
      " [ 105  207    1 4399   39    4    7  360   31  142]\n",
      " [  18    0    0    6  246    0    0   26    0    3]\n",
      " [   0    0    0    0    0    0    0    1    0    2]\n",
      " [   0    0    0    0    1    0   14    3    0    0]\n",
      " [ 336  217    0  501   83    4    4 5063   78  306]\n",
      " [  22    9    0   48    4    5    0  106 5140    5]\n",
      " [   6   33    0   40    0    1    0  119    0  665]]\n",
      "CPU times: user 4min 43s, sys: 9min 18s, total: 14min 1s\n",
      "Wall time: 1min 50s\n"
     ]
    }
   ],
   "source": [
    "%%time\n",
    "\n",
    "lr = LogisticRegression(class_weight='balanced', random_state=42)\n",
    "lr.fit(tfidf_vect_train, y_train)\n",
    "\n",
    "pred_lr = lr.predict(tfidf_vect_test)\n",
    "print(f'classification_report:\\n{classification_report(y_test, pred_lr, digits=5)}')\n",
    "print(f'confusion_matrix:\\n{confusion_matrix(y_test, pred_lr)}')"
   ]
  },
  {
   "cell_type": "markdown",
   "metadata": {},
   "source": [
    "* ### c препроцессингом"
   ]
  },
  {
   "cell_type": "code",
   "execution_count": 37,
   "metadata": {},
   "outputs": [],
   "source": [
    "# импортируем кастомный наш препроцессинг\n",
    "from news_viz.data.preprocessing_tools import clean_text, lemmatize\n",
    "# pip install pymorphy2"
   ]
  },
  {
   "cell_type": "code",
   "execution_count": 38,
   "metadata": {},
   "outputs": [],
   "source": [
    "# импортируем нужные нам библиотеки для мультипроцессинга\n",
    "# создаем соответствующую для этого функцию\n",
    "import multiprocessing as mp\n",
    "from multiprocessing import Pool\n",
    "\n",
    "num_cores = mp.cpu_count() # number of cores on your machine; 20\n",
    "num_partitions = num_cores * 2 # number of partitions to split dataframe\n",
    "\n",
    "def parallelize_dataframe(df, func):\n",
    "    df_split = np.array_split(df, num_partitions)\n",
    "    pool = Pool(num_cores)\n",
    "    df = pd.concat(pool.map(func, df_split))\n",
    "    pool.close()\n",
    "    pool.join()\n",
    "    return df"
   ]
  },
  {
   "cell_type": "code",
   "execution_count": 39,
   "metadata": {},
   "outputs": [],
   "source": [
    "train = pd.DataFrame(X_train)\n",
    "train['target'] = pd.DataFrame(y_train)\n",
    "\n",
    "test = pd.DataFrame(X_test)\n",
    "test['target'] = pd.DataFrame(y_test)"
   ]
  },
  {
   "cell_type": "markdown",
   "metadata": {},
   "source": [
    "* оставим только слова"
   ]
  },
  {
   "cell_type": "code",
   "execution_count": 40,
   "metadata": {},
   "outputs": [],
   "source": [
    "def multiply_clean_text(data):\n",
    "    data['clean_text'] = data['text'].apply(clean_text)\n",
    "    return data"
   ]
  },
  {
   "cell_type": "code",
   "execution_count": 41,
   "metadata": {},
   "outputs": [
    {
     "name": "stdout",
     "output_type": "stream",
     "text": [
      "clean train text & drop missing rows ...\n",
      "clean test text & drop missing rows ...\n",
      "CPU times: user 1.86 s, sys: 1.45 s, total: 3.31 s\n",
      "Wall time: 3.75 s\n"
     ]
    },
    {
     "data": {
      "text/plain": [
       "9461"
      ]
     },
     "execution_count": 41,
     "metadata": {},
     "output_type": "execute_result"
    }
   ],
   "source": [
    "%%time\n",
    "\n",
    "print('clean train text & drop missing rows ...')\n",
    "train = parallelize_dataframe(train, multiply_clean_text)\n",
    "train = train[train.clean_text != 'TOREMOVE']\n",
    "\n",
    "print('clean test text & drop missing rows ...')\n",
    "test = parallelize_dataframe(test, multiply_clean_text)\n",
    "test = test[test.clean_text != 'TOREMOVE']\n",
    "\n",
    "gc.collect()"
   ]
  },
  {
   "cell_type": "markdown",
   "metadata": {},
   "source": [
    "* лемматизируем и удалим заодно стоп-слова"
   ]
  },
  {
   "cell_type": "code",
   "execution_count": 42,
   "metadata": {},
   "outputs": [],
   "source": [
    "def multiply_lemmatization(data):\n",
    "    data['lemma_text'] = data['clean_text'].apply(lemmatize)\n",
    "    return data"
   ]
  },
  {
   "cell_type": "code",
   "execution_count": 43,
   "metadata": {},
   "outputs": [
    {
     "name": "stdout",
     "output_type": "stream",
     "text": [
      "lemmatization train ...\n",
      "lemmatization test ...\n",
      "CPU times: user 3.24 s, sys: 2.13 s, total: 5.36 s\n",
      "Wall time: 1min 27s\n"
     ]
    },
    {
     "data": {
      "text/plain": [
       "0"
      ]
     },
     "execution_count": 43,
     "metadata": {},
     "output_type": "execute_result"
    }
   ],
   "source": [
    "%%time\n",
    "\n",
    "print('lemmatization train ...')\n",
    "train = parallelize_dataframe(train, multiply_lemmatization)\n",
    "train = train[train.lemma_text != 'TOREMOVE']\n",
    "\n",
    "gc.collect()\n",
    "\n",
    "print('lemmatization test ...')\n",
    "test = parallelize_dataframe(test, multiply_lemmatization)\n",
    "test = test[test.lemma_text != 'TOREMOVE']\n",
    "\n",
    "gc.collect()"
   ]
  },
  {
   "cell_type": "code",
   "execution_count": 48,
   "metadata": {},
   "outputs": [
    {
     "name": "stdout",
     "output_type": "stream",
     "text": [
      "0 0\n",
      "(85214, 4) (21298, 4)\n"
     ]
    },
    {
     "data": {
      "text/html": [
       "<div>\n",
       "<style scoped>\n",
       "    .dataframe tbody tr th:only-of-type {\n",
       "        vertical-align: middle;\n",
       "    }\n",
       "\n",
       "    .dataframe tbody tr th {\n",
       "        vertical-align: top;\n",
       "    }\n",
       "\n",
       "    .dataframe thead th {\n",
       "        text-align: right;\n",
       "    }\n",
       "</style>\n",
       "<table border=\"1\" class=\"dataframe\">\n",
       "  <thead>\n",
       "    <tr style=\"text-align: right;\">\n",
       "      <th></th>\n",
       "      <th>text</th>\n",
       "      <th>target</th>\n",
       "      <th>clean_text</th>\n",
       "      <th>lemma_text</th>\n",
       "    </tr>\n",
       "  </thead>\n",
       "  <tbody>\n",
       "    <tr>\n",
       "      <th>81924</th>\n",
       "      <td>Взрывное устройствоnсработалоnрядом с ресторан...</td>\n",
       "      <td>Мир</td>\n",
       "      <td>взрывное устройство сработало рядом рестораном...</td>\n",
       "      <td>взрывной устройство сработать ресторан район х...</td>\n",
       "    </tr>\n",
       "    <tr>\n",
       "      <th>55800</th>\n",
       "      <td>«На совещании у президента обсуждался вопрос и...</td>\n",
       "      <td>Россия</td>\n",
       "      <td>на совещании президента обсуждался вопрос инде...</td>\n",
       "      <td>совещание президент обсуждаться индексация пен...</td>\n",
       "    </tr>\n",
       "  </tbody>\n",
       "</table>\n",
       "</div>"
      ],
      "text/plain": [
       "                                                    text  target  \\\n",
       "81924  Взрывное устройствоnсработалоnрядом с ресторан...     Мир   \n",
       "55800  «На совещании у президента обсуждался вопрос и...  Россия   \n",
       "\n",
       "                                              clean_text  \\\n",
       "81924  взрывное устройство сработало рядом рестораном...   \n",
       "55800  на совещании президента обсуждался вопрос инде...   \n",
       "\n",
       "                                              lemma_text  \n",
       "81924  взрывной устройство сработать ресторан район х...  \n",
       "55800  совещание президент обсуждаться индексация пен...  "
      ]
     },
     "execution_count": 48,
     "metadata": {},
     "output_type": "execute_result"
    }
   ],
   "source": [
    "print(train.lemma_text.isnull().sum() , test.lemma_text.isnull().sum())\n",
    "\n",
    "print(train.shape, test.shape)\n",
    "\n",
    "train.sample(2)"
   ]
  },
  {
   "cell_type": "markdown",
   "metadata": {},
   "source": [
    "---\n",
    "* обучаем модель на очищенных данных"
   ]
  },
  {
   "cell_type": "code",
   "execution_count": 49,
   "metadata": {},
   "outputs": [],
   "source": [
    "X_train = train.lemma_text\n",
    "y_train = train.target\n",
    "\n",
    "X_test  = test.lemma_text\n",
    "y_test = test.target"
   ]
  },
  {
   "cell_type": "code",
   "execution_count": 50,
   "metadata": {},
   "outputs": [
    {
     "name": "stdout",
     "output_type": "stream",
     "text": [
      "CPU times: user 6.44 s, sys: 1.01 s, total: 7.46 s\n",
      "Wall time: 7.47 s\n"
     ]
    }
   ],
   "source": [
    "%%time\n",
    "\n",
    "tfidf_vect_vect = TfidfVectorizer()\n",
    "\n",
    "tfidf_vect_train = tfidf_vect.fit_transform(X_train)\n",
    "tfidf_vect_test = tfidf_vect.transform(X_test)"
   ]
  },
  {
   "cell_type": "code",
   "execution_count": 51,
   "metadata": {},
   "outputs": [
    {
     "name": "stdout",
     "output_type": "stream",
     "text": [
      "размер корпуса: 99941\n",
      "\n",
      "пример [:5]: [('россия', 1780.5048788240413), ('новость', 1354.3709656551528), ('заявить', 1265.1016032457333), ('сообщаться', 1252.2374936989756), ('российский', 1249.950046751859)]\n"
     ]
    }
   ],
   "source": [
    "# распределение токенов\n",
    "vocab = {a: b for a, b in zip(tfidf_vect.get_feature_names(), np.ravel(tfidf_vect_train.sum(axis=0)))}\n",
    "vocab = sorted(vocab.items(), reverse=True, key = lambda kv:(kv[1], kv[0]))\n",
    "\n",
    "print(f'размер корпуса: {len(vocab)}')\n",
    "print(f'\\nпример [:5]: {vocab[:5]}')"
   ]
  },
  {
   "cell_type": "code",
   "execution_count": 52,
   "metadata": {},
   "outputs": [
    {
     "data": {
      "image/png": "[encoded data removed]",
      "text/plain": [
       "<Figure size 1440x720 with 1 Axes>"
      ]
     },
     "metadata": {},
     "output_type": "display_data"
    }
   ],
   "source": [
    "plotFrequencyWords(vocab = vocab,\n",
    "                   top_words = 22,\n",
    "                   plt_background = 'dark')"
   ]
  },
  {
   "cell_type": "code",
   "execution_count": 53,
   "metadata": {},
   "outputs": [
    {
     "name": "stdout",
     "output_type": "stream",
     "text": [
      "classification_report:\n",
      "                   precision    recall  f1-score   support\n",
      "\n",
      "     Без политики    0.60239   0.85231   0.70588       887\n",
      "      Бывший СССР    0.78843   0.88542   0.83411      2016\n",
      "   Мероприятия RT    0.00000   0.00000   0.00000         3\n",
      "              Мир    0.86686   0.83097   0.84854      5289\n",
      "            Наука    0.57016   0.85619   0.68449       299\n",
      "Новости партнёров    0.00000   0.00000   0.00000         3\n",
      "     Пресс-релизы    0.41935   0.72222   0.53061        18\n",
      "           Россия    0.87959   0.75668   0.81352      6584\n",
      "            Спорт    0.97806   0.96926   0.97364      5335\n",
      "        Экономика    0.55364   0.81829   0.66044       864\n",
      "\n",
      "         accuracy                        0.84820     21298\n",
      "        macro avg    0.56585   0.66913   0.60512     21298\n",
      "     weighted avg    0.86272   0.84820   0.85130     21298\n",
      "\n",
      "confusion_matrix:\n",
      "[[ 756   10    0   31   26    0    0   55    5    4]\n",
      " [  10 1785    0   61    3    0    0  100    1   56]\n",
      " [   0    0    0    1    0    0    1    1    0    0]\n",
      " [ 133  204    1 4395   44    0    9  327   25  151]\n",
      " [  13    0    0    7  256    0    1   19    2    1]\n",
      " [   0    0    0    0    0    0    0    1    0    2]\n",
      " [   0    0    0    1    1    0   13    3    0    0]\n",
      " [ 320  223    0  504  116    0    7 4982   83  349]\n",
      " [  17   12    0   34    2    0    0   92 5171    7]\n",
      " [   6   30    0   36    1    0    0   84    0  707]]\n",
      "CPU times: user 2min 33s, sys: 7min 18s, total: 9min 51s\n",
      "Wall time: 35.9 s\n"
     ]
    }
   ],
   "source": [
    "%%time\n",
    "\n",
    "lr = LogisticRegression(class_weight='balanced', random_state=42)\n",
    "lr.fit(tfidf_vect_train, y_train)\n",
    "\n",
    "pred_lr = lr.predict(tfidf_vect_test)\n",
    "print(f'classification_report:\\n{classification_report(y_test, pred_lr, digits=5)}')\n",
    "print(f'confusion_matrix:\\n{confusion_matrix(y_test, pred_lr)}')"
   ]
  },
  {
   "cell_type": "code",
   "execution_count": null,
   "metadata": {},
   "outputs": [],
   "source": []
  }
 ],
 "metadata": {
  "kernelspec": {
   "display_name": "Python 3",
   "language": "python",
   "name": "python3"
  },
  "language_info": {
   "codemirror_mode": {
    "name": "ipython",
    "version": 3
   },
   "file_extension": ".py",
   "mimetype": "text/x-python",
   "name": "python",
   "nbconvert_exporter": "python",
   "pygments_lexer": "ipython3",
   "version": "3.7.5"
  }
 },
 "nbformat": 4,
 "nbformat_minor": 4
}
